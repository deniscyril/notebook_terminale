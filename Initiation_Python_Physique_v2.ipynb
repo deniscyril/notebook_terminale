{
 "cells": [
  {
   "cell_type": "markdown",
   "metadata": {},
   "source": [
    "# Situation de proportionnalité\n",
    "## Des points expérimentaux au graphique\n",
    "\n",
    "Très souvent en TP, on mesure les valeurs d'une grandeur y en fonction de la valeur d'un paramètre x que l'on change d'une mesure à une autre. Un phénomène physique fait que y varie lorsque x change. Pour mieux étudier les variations de y, on réalise un graphique en plaçant les couples de valeurs (x,y) dans un repère. On obtient un *nuage de points expérimentaux*.\n",
    "\n",
    "## Exemple simple\n",
    "\n",
    "On pèse la masse d'un paquet de bonbons en faisant varier le nombre de bonbons dans le paquet (on néglige la masse de l'emballage et les bonbons sont tous identiques).\n",
    "\n",
    "1. Dans cet exemple, identifiez la grandeur qui joue le rôle de x et celle qui joue le rôle de y.\n",
    "2. On prépare 4 paquets de bonbons de tailles différentes.\n",
    "\n",
    "| nb bonbons | 10 | 20 | 30 | 40  |\n",
    "|------------|----|----|----|-----|\n",
    "| masse en g | 30 | 60 | 90 | 120 |\n",
    "\n",
    "3. Comment s'appelle la relation mathématique entre la masse et le nombre de bonbons ?\n",
    "4. On note m la masse du paquet et n le nombre de bonbons. Propose une écriture mathématique exprimant la relation entre m et n.\n",
    "5. On souhaite représenter graphiquement l'évolution de la masse du paquet en fonction du nombre de bonbons présents. Sur quel axe doit-on placer le nombre de bonbons ?\n",
    "6. Sans faire le graphique, quelle est l'allure de cette représentation graphique ?\n",
    "\n",
    "Nous allons réaliser un programme qui va produire ce graphique.\n",
    "\n",
    "\n",
    "## Code Python élémentaire\n",
    "\n",
    "- Dans une cellule python, recopie et exécute le programme suivant. \n",
    "- En exécutant le programme tu dois obtenir le graphique ci-dessous."
   ]
  },
  {
   "cell_type": "code",
   "execution_count": 1,
   "metadata": {},
   "outputs": [
    {
     "data": {
      "text/plain": [
       "[<matplotlib.lines.Line2D at 0x7ffd20c07700>]"
      ]
     },
     "execution_count": 1,
     "metadata": {},
     "output_type": "execute_result"
    },
    {
     "data": {
      "image/png": "[encoded data removed]",
      "text/plain": [
       "<Figure size 432x288 with 1 Axes>"
      ]
     },
     "metadata": {
      "needs_background": "light"
     },
     "output_type": "display_data"
    }
   ],
   "source": [
    "# importations de nouvelles instructions\n",
    "import matplotlib.pyplot as plt\n",
    "import numpy as np\n",
    "\n",
    "# Données expérimentales\n",
    "nb = [10, 20, 30, 40]\n",
    "m = [30, 60, 90, 120]\n",
    "\n",
    "# graphique\n",
    "plt.plot(nb,m,\"bo\")"
   ]
  },
  {
   "cell_type": "markdown",
   "metadata": {},
   "source": [
    "### Commentaires\n",
    "\n",
    "1. Observez le graphique : est-il correct ?\n",
    "2. Dans la dernier instruction `plt.plot` échanger la position des paramètres `nb` et `m`. Exécutez à nouveau. Que s'est-il passé ?\n",
    "2. Quels renseignements importants manquent-ils sur ce graphique ?\n",
    "\n",
    "Le code ci-dessous ajoute des informations au graphique.\n",
    "\n",
    "3. Compléter le code de manière à avoir comme titre: \"Représentation de la masse en fonction du nombre\" \n",
    "4. Nommer correctement les axes."
   ]
  },
  {
   "cell_type": "code",
   "execution_count": 1,
   "metadata": {
    "scrolled": true
   },
   "outputs": [
    {
     "data": {
      "text/plain": [
       "[<matplotlib.lines.Line2D at 0x7f8adaaced60>]"
      ]
     },
     "execution_count": 1,
     "metadata": {},
     "output_type": "execute_result"
    },
    {
     "data": {
      "image/png": "[encoded data removed]",
      "text/plain": [
       "<Figure size 432x288 with 1 Axes>"
      ]
     },
     "metadata": {
      "needs_background": "light"
     },
     "output_type": "display_data"
    }
   ],
   "source": [
    "# importations de nouvelles instructions\n",
    "import matplotlib.pyplot as plt\n",
    "import numpy as np\n",
    "\n",
    "# Données expérimentales\n",
    "nb = [10, 20, 30, 40]\n",
    "m = [30, 60, 90, 120]\n",
    "\n",
    "# graphique mis en forme\n",
    "#Légendes titres et axes\n",
    "plt.title('Titre du graphique')\n",
    "plt.xlabel('nom de  l axe des x')\n",
    "plt.ylabel('nom de  l axe des y')\n",
    "# Choix de l'échelle\n",
    "plt.axis(xmin = 0, xmax = 45, ymin= 0, ymax = 125)\n",
    "plt.plot(nb,m,\"bo\")"
   ]
  },
  {
   "cell_type": "markdown",
   "metadata": {},
   "source": [
    "# Modélisation\n",
    "## C'est quoi modéliser ?\n",
    "\n",
    "A partir des points expérimentaux (x,y), on veut maintenant trouver une relation mathématique qui permet de prédire la valeur de y pour n'importe quelle valeur x sans faire d'expérience, simplement par calcul.\n",
    "\n",
    "On a besoin d'une relation mathématique entre y et x. On choisit cette relation à partir du graphique. Lorsque les points expérimentaux sur le graphique sont distribués autour d'une droite qui passe par l'origine, on utilise une relation linaire: $$y=a\\times x$$ c'est aussi l'équation d'une droite passant par l'origine de coefficient directeur $a$.\n",
    "\n",
    "**Trouver la valeur de $a$ à partir du graphique permet d'obtenir le modèle.**\n",
    "\n",
    "## Comment modéliser ?\n",
    "\n",
    "Nous allons utiliser python pour calculer le coefficient $a$ de la droite qui passe au plus près de tous les points du graphique. Pour cela nous allons utiliser:\n",
    "\n",
    "- des tableaux numpy  \n",
    "- l'instruction `linregress`\n",
    "\n",
    "### Utilisation des tableaux numpy\n",
    "\n",
    "Ces tableaux de données permettent de faire automatiquement des calculs sur l'ensemble des valeurs du tableau.\n",
    "\n",
    "Technique: \n",
    "\n",
    "On rentre les données sous la forme d'un `np.array`. L'exemple ci-dessous montre l'intérêt de ce type de tableau en le comparant à une simple liste de données."
   ]
  },
  {
   "cell_type": "code",
   "execution_count": 4,
   "metadata": {},
   "outputs": [
    {
     "name": "stdout",
     "output_type": "stream",
     "text": [
      "[1, 2, 3, 1, 2, 3, 1, 2, 3]\n",
      "multiplions toutes les valeurs par 3\n",
      "[3 6 9]\n"
     ]
    }
   ],
   "source": [
    "# Liste de données Sans numpy \n",
    "x = [1,2,3]\n",
    "print(3 * x) \n",
    "# Liste AVEC Numpy !\n",
    "X = np.array([1, 2 ,3])\n",
    "print('multiplions toutes les valeurs par 3')\n",
    "print(3*X)"
   ]
  },
  {
   "cell_type": "markdown",
   "metadata": {},
   "source": [
    "### Modélisation ou régression linéaire\n",
    "\n",
    "Je répète : \n",
    "\n",
    "**A retenir** \n",
    "\n",
    "1. Lorsque les points du graphique sont alignés sur une droite qui passe par l'origine les grandeurs portées par les axes sont proportionnelles.\n",
    "\n",
    "2. L'équation de cette droite est de la forme $$y=a\\times x$$ avec $a$ le coefficient de proportionnalité est aussi le **coefficient directeur de la droite moyenne**. \n",
    "\n",
    "Le programme suivant permet de calculer $a$ à partir de la liste des données X et Y"
   ]
  },
  {
   "cell_type": "code",
   "execution_count": 2,
   "metadata": {},
   "outputs": [
    {
     "name": "stdout",
     "output_type": "stream",
     "text": [
      "LinregressResult(slope=2.9799999999999995, intercept=-0.049999999999998934, rvalue=0.9975765156006898, pvalue=0.04433053604434066, stderr=0.20784609690826517, intercept_stderr=0.4489988864128728)\n"
     ]
    }
   ],
   "source": [
    "# importation de linregress\n",
    "from scipy.stats import linregress\n",
    "\n",
    "# Valeurs à modéliser\n",
    "X = np.array([1, 2 ,3]) # Attention syntaxe ([ ,  , ])\n",
    "Y = np.array([ 2.81, 6.15 ,8.77])\n",
    "print(linregress(X,Y)) # Affiche tous les calculs de modélisation \n",
    "a = linregress(X,Y)[0] #on récupère slope: la pente = coeff directeur\n",
    "b = linregress(X,Y)[1] #on récupère intercept: l'ordonnée à l'origine\n"
   ]
  },
  {
   "cell_type": "markdown",
   "metadata": {},
   "source": [
    "## Questions\n",
    "\n",
    "1. Dans le programme ci-dessus X et Y sont elles strictement proportionnelles ?\n",
    "2. A partir des résultats des calculs fait par Python, quelle est l'équation de la droite qui modélise la relation entre X et Y.\n",
    "3. Calculer la valeur de Y prédit par le modèle lorsque X vaut 1,5 ?\n",
    "4. Vérifier la valeur précédente, en utilisant le graphique ci-dessous."
   ]
  },
  {
   "cell_type": "code",
   "execution_count": 3,
   "metadata": {},
   "outputs": [
    {
     "data": {
      "text/plain": [
       "[<matplotlib.lines.Line2D at 0x7f8adb69d640>]"
      ]
     },
     "execution_count": 3,
     "metadata": {},
     "output_type": "execute_result"
    },
    {
     "data": {
      "image/png": "[encoded data removed]",
      "text/plain": [
       "<Figure size 432x288 with 1 Axes>"
      ]
     },
     "metadata": {
      "needs_background": "light"
     },
     "output_type": "display_data"
    }
   ],
   "source": [
    "plt.plot(X,a*X + b,\"r--\")\n",
    "plt.plot(X,Y,\"bo\")\n"
   ]
  },
  {
   "cell_type": "markdown",
   "metadata": {},
   "source": [
    "### Quand la modélisation est-elle bonne ?\n",
    "\n",
    "A partir des points expérimentaux, on calcule un nombre souvent noté $R^2$ qui s'appelle le coefficient de corrélation. \n",
    "\n",
    "**On retient que** si $R^2>0,9$ alors les points s'alignent bien suivant une droite et la modélisation est légitime. \n",
    "\n",
    "Dans le cas contraire, il faut vérifier si les mesures sont bien correctes et éventuellement changer de modèle. \n",
    "\n",
    "### Calcul de $R^2$ avec Python\n",
    "\n"
   ]
  },
  {
   "cell_type": "code",
   "execution_count": 7,
   "metadata": {},
   "outputs": [
    {
     "name": "stdout",
     "output_type": "stream",
     "text": [
      "Le coefficient de corrélation vaut 0.998\n"
     ]
    }
   ],
   "source": [
    "R2 = linregress(X,Y)[2] #on récupère le coefficient de corrélation\n",
    "print(f\"Le coefficient de corrélation vaut {R2:<5.3f}\")"
   ]
  },
  {
   "cell_type": "markdown",
   "metadata": {},
   "source": [
    "# Exercice \n",
    "## Situation\n",
    "\n",
    "Des élèves de première, disposent de 5 solutions colorées de concentration C connues. Pour chaque solution, ils mesurent l'absorbance $A$ de la solution. \n",
    "\n",
    "La loi de Beer-Lambert annonce que l'absorbance et la concentration sont reliées par $$ A= k\\times C$$ où k est une constante.\n",
    "\n",
    "Voici leurs mesures:\n",
    "\n",
    "| C en mol/L | 0,001 |  0,002| 0,003 | 0,004  |\n",
    "|------------|----|----|----|-----|\n",
    "|A | 0,28 | 0,55 | 0,90 | 1,30 |\n",
    "\n",
    "## Votre travail\n",
    "\n",
    "**Votre objectif** \n",
    "\n",
    "- Représenter dans un graphiques les mesures.\n",
    "- Montrer que les mesures sont cohérentes avec la loi de Beer-Lambert\n",
    "- En déduire la valeur de k\n",
    "- Préciser les unités de k\n",
    "\n",
    "**Outils**\n",
    "\n",
    "- Saisir les valeurs dans des tableaux numpy\n",
    "- Produire un graphique en modifiant les codes donnés plus haut\n",
    "- Effectuer la modélisation à l'aide de `linregress`\n",
    "- Valider la modélisation en calculant $R^2$"
   ]
  },
  {
   "cell_type": "code",
   "execution_count": null,
   "metadata": {},
   "outputs": [],
   "source": []
  }
 ],
 "metadata": {
  "kernelspec": {
   "display_name": "Python 3",
   "language": "python",
   "name": "python3"
  },
  "language_info": {
   "codemirror_mode": {
    "name": "ipython",
    "version": 3
   },
   "file_extension": ".py",
   "mimetype": "text/x-python",
   "name": "python",
   "nbconvert_exporter": "python",
   "pygments_lexer": "ipython3",
   "version": "3.7.4"
  }
 },
 "nbformat": 4,
 "nbformat_minor": 5
}
